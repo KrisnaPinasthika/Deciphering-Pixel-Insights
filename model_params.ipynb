{
 "cells": [
  {
   "cell_type": "code",
   "execution_count": 1,
   "metadata": {},
   "outputs": [],
   "source": [
    "from torchsummary import summary \n",
    "from torchvision.models import resnet18, resnet34, resnet50, resnet101, resnet152\n",
    "from torchvision.models import densenet121, densenet161, densenet169, densenet201\n",
    "from torchvision.models import efficientnet_v2_s, efficientnet_v2_m, efficientnet_v2_l\n",
    "from prettytable import PrettyTable\n",
    "\n",
    "def count_parameters(model):\n",
    "    table = PrettyTable([\"Modules\", \"Parameters\"])\n",
    "    total_params = 0\n",
    "    for name, parameter in model.named_parameters():\n",
    "        if not parameter.requires_grad: continue\n",
    "        params = parameter.numel()\n",
    "        table.add_row([name, params])\n",
    "        total_params+=params\n",
    "    # print(table)\n",
    "    print(f\"Total Trainable Params: {total_params:,}\")\n",
    "    return total_params"
   ]
  },
  {
   "cell_type": "code",
   "execution_count": 7,
   "metadata": {},
   "outputs": [],
   "source": [
    "resnet_model = [resnet18(), resnet34(), resnet50(), resnet101(), resnet152()]\n",
    "densenet_model = [densenet121(), densenet161(), densenet169(), densenet201()]\n",
    "effnetv2_model = [efficientnet_v2_s(), efficientnet_v2_m(), efficientnet_v2_l()]"
   ]
  },
  {
   "cell_type": "code",
   "execution_count": 3,
   "metadata": {},
   "outputs": [
    {
     "name": "stdout",
     "output_type": "stream",
     "text": [
      "Total Trainable Params: 11,689,512\n",
      "----------------------------------------\n",
      "Total Trainable Params: 21,797,672\n",
      "----------------------------------------\n",
      "Total Trainable Params: 25,557,032\n",
      "----------------------------------------\n",
      "Total Trainable Params: 44,549,160\n",
      "----------------------------------------\n",
      "Total Trainable Params: 60,192,808\n",
      "----------------------------------------\n"
     ]
    }
   ],
   "source": [
    "for resnet in resnet_model: \n",
    "    count_parameters(resnet)\n",
    "    print('--'*20)"
   ]
  },
  {
   "cell_type": "code",
   "execution_count": 4,
   "metadata": {},
   "outputs": [
    {
     "name": "stdout",
     "output_type": "stream",
     "text": [
      "Total Trainable Params: 7,978,856\n",
      "----------------------------------------\n",
      "Total Trainable Params: 28,681,000\n",
      "----------------------------------------\n",
      "Total Trainable Params: 14,149,480\n",
      "----------------------------------------\n",
      "Total Trainable Params: 20,013,928\n",
      "----------------------------------------\n"
     ]
    }
   ],
   "source": [
    "for densenet in densenet_model: \n",
    "    count_parameters(densenet)\n",
    "    print('--'*20)"
   ]
  },
  {
   "cell_type": "code",
   "execution_count": 8,
   "metadata": {},
   "outputs": [
    {
     "name": "stdout",
     "output_type": "stream",
     "text": [
      "Total Trainable Params: 21,458,488\n",
      "----------------------------------------\n",
      "Total Trainable Params: 54,139,356\n",
      "----------------------------------------\n",
      "Total Trainable Params: 118,515,272\n",
      "----------------------------------------\n"
     ]
    }
   ],
   "source": [
    "for effnetv2 in effnetv2_model: \n",
    "    count_parameters(effnetv2)\n",
    "    print('--'*20)"
   ]
  }
 ],
 "metadata": {
  "kernelspec": {
   "display_name": "Python 3",
   "language": "python",
   "name": "python3"
  },
  "language_info": {
   "codemirror_mode": {
    "name": "ipython",
    "version": 3
   },
   "file_extension": ".py",
   "mimetype": "text/x-python",
   "name": "python",
   "nbconvert_exporter": "python",
   "pygments_lexer": "ipython3",
   "version": "3.8.0"
  },
  "orig_nbformat": 4
 },
 "nbformat": 4,
 "nbformat_minor": 2
}
